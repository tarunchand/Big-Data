{
  "nbformat": 4,
  "nbformat_minor": 0,
  "metadata": {
    "colab": {
      "provenance": [],
      "authorship_tag": "ABX9TyO9GYTi/k9Q8GZTFxyy89Mo",
      "include_colab_link": true
    },
    "kernelspec": {
      "name": "python3",
      "display_name": "Python 3"
    },
    "language_info": {
      "name": "python"
    }
  },
  "cells": [
    {
      "cell_type": "markdown",
      "metadata": {
        "id": "view-in-github",
        "colab_type": "text"
      },
      "source": [
        "<a href=\"https://colab.research.google.com/github/tarunchand/Big-Data/blob/main/BigDataLab_28_10_2022.ipynb\" target=\"_parent\"><img src=\"https://colab.research.google.com/assets/colab-badge.svg\" alt=\"Open In Colab\"/></a>"
      ]
    },
    {
      "cell_type": "code",
      "execution_count": null,
      "metadata": {
        "colab": {
          "base_uri": "https://localhost:8080/"
        },
        "id": "9qe02XBO5Chf",
        "outputId": "512e6fb0-c6f0-4acf-840b-16605f076518"
      },
      "outputs": [
        {
          "output_type": "stream",
          "name": "stdout",
          "text": [
            "Looking in indexes: https://pypi.org/simple, https://us-python.pkg.dev/colab-wheels/public/simple/\n",
            "Collecting pyspark\n",
            "  Downloading pyspark-3.3.1.tar.gz (281.4 MB)\n",
            "\u001b[K     |████████████████████████████████| 281.4 MB 46 kB/s \n",
            "\u001b[?25hCollecting py4j==0.10.9.5\n",
            "  Downloading py4j-0.10.9.5-py2.py3-none-any.whl (199 kB)\n",
            "\u001b[K     |████████████████████████████████| 199 kB 46.4 MB/s \n",
            "\u001b[?25hBuilding wheels for collected packages: pyspark\n",
            "  Building wheel for pyspark (setup.py) ... \u001b[?25l\u001b[?25hdone\n",
            "  Created wheel for pyspark: filename=pyspark-3.3.1-py2.py3-none-any.whl size=281845513 sha256=baf7442dba175451b0daa9ce0d2218afafb5df938287c2c35a373c73fd02cb88\n",
            "  Stored in directory: /root/.cache/pip/wheels/42/59/f5/79a5bf931714dcd201b26025347785f087370a10a3329a899c\n",
            "Successfully built pyspark\n",
            "Installing collected packages: py4j, pyspark\n",
            "Successfully installed py4j-0.10.9.5 pyspark-3.3.1\n"
          ]
        }
      ],
      "source": [
        "# install pyspark\n",
        "!pip3 install pyspark"
      ]
    },
    {
      "cell_type": "code",
      "source": [],
      "metadata": {
        "id": "lCDQ5MJX-2gH"
      },
      "execution_count": null,
      "outputs": []
    },
    {
      "cell_type": "code",
      "source": [
        "# Linking with Spark\n",
        "from pyspark import SparkContext, SparkConf\n",
        "\n",
        "# Initializing Spark\n",
        "conf = SparkConf().setAppName(\"test\").setMaster(\"local[*]\")\n",
        "sc = SparkContext(conf=conf)"
      ],
      "metadata": {
        "id": "JQDXm2X055jy"
      },
      "execution_count": null,
      "outputs": []
    },
    {
      "cell_type": "code",
      "source": [
        "sc.defaultParallelism"
      ],
      "metadata": {
        "colab": {
          "base_uri": "https://localhost:8080/"
        },
        "id": "13ROos7456j5",
        "outputId": "063334ca-a81b-4775-d358-2f8b70d06209"
      },
      "execution_count": null,
      "outputs": [
        {
          "output_type": "execute_result",
          "data": {
            "text/plain": [
              "2"
            ]
          },
          "metadata": {},
          "execution_count": 4
        }
      ]
    },
    {
      "cell_type": "code",
      "source": [
        "import random\n",
        "data = random.sample(range(0, 50), 20)\n",
        "data"
      ],
      "metadata": {
        "colab": {
          "base_uri": "https://localhost:8080/"
        },
        "id": "PseHRL8Q6CSa",
        "outputId": "2d1f27dc-670f-4638-c117-75ba1f583644"
      },
      "execution_count": null,
      "outputs": [
        {
          "output_type": "execute_result",
          "data": {
            "text/plain": [
              "[33, 6, 36, 8, 34, 46, 27, 30, 38, 35, 13, 18, 11, 42, 39, 49, 7, 41, 26, 17]"
            ]
          },
          "metadata": {},
          "execution_count": 5
        }
      ]
    },
    {
      "cell_type": "code",
      "source": [
        "rdd = sc.parallelize(data, 4)"
      ],
      "metadata": {
        "id": "4_bp-lEE6C0J"
      },
      "execution_count": null,
      "outputs": []
    },
    {
      "cell_type": "code",
      "source": [
        "rdd"
      ],
      "metadata": {
        "colab": {
          "base_uri": "https://localhost:8080/"
        },
        "id": "-i62380h6GS5",
        "outputId": "9a7801b4-5719-484c-d87e-cfe6ae25e0c1"
      },
      "execution_count": null,
      "outputs": [
        {
          "output_type": "execute_result",
          "data": {
            "text/plain": [
              "ParallelCollectionRDD[0] at readRDDFromFile at PythonRDD.scala:274"
            ]
          },
          "metadata": {},
          "execution_count": 7
        }
      ]
    },
    {
      "cell_type": "code",
      "source": [
        "rdd.collect()"
      ],
      "metadata": {
        "colab": {
          "base_uri": "https://localhost:8080/"
        },
        "id": "jWlqqAXH6KRK",
        "outputId": "5f976ae0-d0fb-4222-a62e-5b72a2bf8ed2"
      },
      "execution_count": null,
      "outputs": [
        {
          "output_type": "execute_result",
          "data": {
            "text/plain": [
              "[33, 6, 36, 8, 34, 46, 27, 30, 38, 35, 13, 18, 11, 42, 39, 49, 7, 41, 26, 17]"
            ]
          },
          "metadata": {},
          "execution_count": 8
        }
      ]
    },
    {
      "cell_type": "code",
      "source": [
        "rdd.take(5)"
      ],
      "metadata": {
        "colab": {
          "base_uri": "https://localhost:8080/"
        },
        "id": "XRp0PJ3v6Onx",
        "outputId": "41055991-7f9c-4714-a3d6-9287bb2ea7cb"
      },
      "execution_count": null,
      "outputs": [
        {
          "output_type": "execute_result",
          "data": {
            "text/plain": [
              "[33, 6, 36, 8, 34]"
            ]
          },
          "metadata": {},
          "execution_count": 9
        }
      ]
    },
    {
      "cell_type": "code",
      "source": [
        "rdd.takeOrdered(5)"
      ],
      "metadata": {
        "colab": {
          "base_uri": "https://localhost:8080/"
        },
        "id": "4I37Il446TzC",
        "outputId": "47e7b7ca-ff90-460e-8034-b9c7f650c7d0"
      },
      "execution_count": null,
      "outputs": [
        {
          "output_type": "execute_result",
          "data": {
            "text/plain": [
              "[6, 7, 8, 11, 13]"
            ]
          },
          "metadata": {},
          "execution_count": 10
        }
      ]
    },
    {
      "cell_type": "code",
      "source": [
        "rdd.glom().collect()"
      ],
      "metadata": {
        "colab": {
          "base_uri": "https://localhost:8080/"
        },
        "id": "-ilTMMPH6YN7",
        "outputId": "d700bae7-3dbc-413c-b8c2-10c31b1893a0"
      },
      "execution_count": null,
      "outputs": [
        {
          "output_type": "execute_result",
          "data": {
            "text/plain": [
              "[[33, 6, 36, 8, 34],\n",
              " [46, 27, 30, 38, 35],\n",
              " [13, 18, 11, 42, 39],\n",
              " [49, 7, 41, 26, 17]]"
            ]
          },
          "metadata": {},
          "execution_count": 11
        }
      ]
    },
    {
      "cell_type": "code",
      "source": [
        "# map(func)\n",
        "def my_fun(x):\n",
        "  return (x + 2) / 2\n",
        "\n",
        "rdd1 = rdd.map(my_fun)\n",
        "rdd1.glom().collect()"
      ],
      "metadata": {
        "colab": {
          "base_uri": "https://localhost:8080/"
        },
        "id": "GrLGGpjV6bh6",
        "outputId": "ec14344e-f8c4-414f-932e-ca7c993dc62c"
      },
      "execution_count": null,
      "outputs": [
        {
          "output_type": "execute_result",
          "data": {
            "text/plain": [
              "[[17.5, 4.0, 19.0, 5.0, 18.0],\n",
              " [24.0, 14.5, 16.0, 20.0, 18.5],\n",
              " [7.5, 10.0, 6.5, 22.0, 20.5],\n",
              " [25.5, 4.5, 21.5, 14.0, 9.5]]"
            ]
          },
          "metadata": {},
          "execution_count": 12
        }
      ]
    },
    {
      "cell_type": "code",
      "source": [
        "# map(func)\n",
        "rdd1 = rdd.map(lambda x:(x + 3) / 7)\n",
        "rdd1.glom().collect()"
      ],
      "metadata": {
        "colab": {
          "base_uri": "https://localhost:8080/"
        },
        "id": "BsSxrFJE6unr",
        "outputId": "8be646c4-2188-4b26-9e5b-79439650b84a"
      },
      "execution_count": null,
      "outputs": [
        {
          "output_type": "execute_result",
          "data": {
            "text/plain": [
              "[[5.142857142857143,\n",
              "  1.2857142857142858,\n",
              "  5.571428571428571,\n",
              "  1.5714285714285714,\n",
              "  5.285714285714286],\n",
              " [7.0,\n",
              "  4.285714285714286,\n",
              "  4.714285714285714,\n",
              "  5.857142857142857,\n",
              "  5.428571428571429],\n",
              " [2.2857142857142856, 3.0, 2.0, 6.428571428571429, 6.0],\n",
              " [7.428571428571429,\n",
              "  1.4285714285714286,\n",
              "  6.285714285714286,\n",
              "  4.142857142857143,\n",
              "  2.857142857142857]]"
            ]
          },
          "metadata": {},
          "execution_count": 14
        }
      ]
    },
    {
      "cell_type": "code",
      "source": [
        "rdd3 = rdd.filter(lambda x : x%3 == 0)\n",
        "rdd3.glom().collect()"
      ],
      "metadata": {
        "colab": {
          "base_uri": "https://localhost:8080/"
        },
        "id": "SsvBplSw-4Ml",
        "outputId": "69caa919-dfc1-4498-a196-eb3f3212d515"
      },
      "execution_count": null,
      "outputs": [
        {
          "output_type": "execute_result",
          "data": {
            "text/plain": [
              "[[33, 6, 36], [27, 30], [18, 42, 39], []]"
            ]
          },
          "metadata": {},
          "execution_count": 15
        }
      ]
    },
    {
      "cell_type": "code",
      "source": [
        "rdd3.reduce(lambda a,b : a + b)\n"
      ],
      "metadata": {
        "colab": {
          "base_uri": "https://localhost:8080/"
        },
        "id": "HPFG4a9q_FOe",
        "outputId": "59b11a97-5d6e-4c74-c86c-80270c366755"
      },
      "execution_count": null,
      "outputs": [
        {
          "output_type": "execute_result",
          "data": {
            "text/plain": [
              "231"
            ]
          },
          "metadata": {},
          "execution_count": 16
        }
      ]
    },
    {
      "cell_type": "code",
      "source": [
        "rdd4 = sc.parallelize([(1,2),(4,5),(1,7),(4,2),(5,3),(4,9)])\n",
        "rdd4.collect()"
      ],
      "metadata": {
        "colab": {
          "base_uri": "https://localhost:8080/"
        },
        "id": "_nA0sD7n_Vkd",
        "outputId": "753a6212-7dc2-4438-fbdb-99f892566aa7"
      },
      "execution_count": null,
      "outputs": [
        {
          "output_type": "execute_result",
          "data": {
            "text/plain": [
              "[(1, 2), (4, 5), (1, 7), (4, 2), (5, 3), (4, 9)]"
            ]
          },
          "metadata": {},
          "execution_count": 17
        }
      ]
    },
    {
      "cell_type": "code",
      "source": [
        "# reduceByKey(func)\n",
        "rdd5 = rdd4.reduceByKey(lambda a,b: a+b)\n",
        "rdd5.collect()"
      ],
      "metadata": {
        "colab": {
          "base_uri": "https://localhost:8080/"
        },
        "id": "JxmL7k7s_WFc",
        "outputId": "9a6c886b-ddcc-4b27-cd8d-41530228a9d9"
      },
      "execution_count": null,
      "outputs": [
        {
          "output_type": "execute_result",
          "data": {
            "text/plain": [
              "[(4, 16), (1, 9), (5, 3)]"
            ]
          },
          "metadata": {},
          "execution_count": 18
        }
      ]
    },
    {
      "cell_type": "code",
      "source": [
        "rdd5.sortByKey().collect()"
      ],
      "metadata": {
        "colab": {
          "base_uri": "https://localhost:8080/"
        },
        "id": "rgUF8XYs_l7e",
        "outputId": "fe0d74e9-72ad-4702-8cbb-da1febb1921d"
      },
      "execution_count": null,
      "outputs": [
        {
          "output_type": "execute_result",
          "data": {
            "text/plain": [
              "[(1, 9), (4, 16), (5, 3)]"
            ]
          },
          "metadata": {},
          "execution_count": 19
        }
      ]
    },
    {
      "cell_type": "code",
      "source": [
        "print([rdd1.max(), rdd1.min(), rdd1.mean(), rdd1.sum()])"
      ],
      "metadata": {
        "colab": {
          "base_uri": "https://localhost:8080/"
        },
        "id": "iQW96B_5_pvW",
        "outputId": "553d38f4-920f-4680-95c8-019bb0aa3f90"
      },
      "execution_count": null,
      "outputs": [
        {
          "output_type": "stream",
          "name": "stdout",
          "text": [
            "[7.428571428571429, 1.2857142857142858, 4.4, 88.0]\n"
          ]
        }
      ]
    },
    {
      "cell_type": "code",
      "source": [
        "# union():\n",
        "data1 = random.sample(range(0, 20), 10)\n",
        "data2 = random.sample(range(0, 20), 10)\n",
        "\n",
        "rdd1 = sc.parallelize(data1,2)\n",
        "rdd2 = sc.parallelize(data2,2)\n",
        "rdd_union = rdd1.union(rdd2)\n",
        "\n",
        "print(\"rdd1: \", rdd1.glom().collect())\n",
        "print(\"rdd2: \", rdd2.glom().collect())\n",
        "\n",
        "print('new partition: ', rdd_union.getNumPartitions()) # print the number of Partitions\n",
        "print(rdd_union.glom().collect())"
      ],
      "metadata": {
        "colab": {
          "base_uri": "https://localhost:8080/"
        },
        "id": "HE3gZ-LV_uY2",
        "outputId": "4da691ca-ae07-4636-efe6-7f2602e4f2f4"
      },
      "execution_count": null,
      "outputs": [
        {
          "output_type": "stream",
          "name": "stdout",
          "text": [
            "rdd1:  [[9, 15, 7, 11, 12], [19, 17, 18, 2, 4]]\n",
            "rdd2:  [[8, 1, 0, 5, 6], [2, 14, 4, 12, 3]]\n",
            "new partition:  4\n",
            "[[9, 15, 7, 11, 12], [19, 17, 18, 2, 4], [8, 1, 0, 5, 6], [2, 14, 4, 12, 3]]\n"
          ]
        }
      ]
    },
    {
      "cell_type": "code",
      "source": [
        "# intersection():\n",
        "rdd_intersection = rdd1.intersection(rdd2)\n",
        "\n",
        "print(rdd_intersection.getNumPartitions())\n",
        "print(rdd_intersection.collect())\n",
        "print(rdd_intersection.glom().collect())"
      ],
      "metadata": {
        "colab": {
          "base_uri": "https://localhost:8080/"
        },
        "id": "caE_B9wQ_1Um",
        "outputId": "99e2a09a-f55d-4536-ec6c-f4dd8739f9e1"
      },
      "execution_count": null,
      "outputs": [
        {
          "output_type": "stream",
          "name": "stdout",
          "text": [
            "4\n",
            "[12, 4, 2]\n",
            "[[12, 4], [], [2], []]\n"
          ]
        }
      ]
    },
    {
      "cell_type": "code",
      "source": [
        "rdd_intersection.coalesce(1).glom().collect()"
      ],
      "metadata": {
        "colab": {
          "base_uri": "https://localhost:8080/"
        },
        "id": "_r8doM8NAItf",
        "outputId": "104b7f8d-2cd5-4c7f-eeb2-e52797116b74"
      },
      "execution_count": null,
      "outputs": [
        {
          "output_type": "execute_result",
          "data": {
            "text/plain": [
              "[[12, 4, 2]]"
            ]
          },
          "metadata": {},
          "execution_count": 24
        }
      ]
    }
  ]
}